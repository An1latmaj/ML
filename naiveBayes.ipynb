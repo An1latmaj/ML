{
 "cells": [
  {
   "cell_type": "code",
   "execution_count": 4,
   "metadata": {
    "ExecuteTime": {
     "end_time": "2024-04-06T11:12:07.550139737Z",
     "start_time": "2024-04-06T11:12:07.548506974Z"
    }
   },
   "outputs": [],
   "source": [
    "import collections\n",
    "import glob\n",
    "import os\n",
    "import numpy as np"
   ]
  },
  {
   "cell_type": "code",
   "execution_count": 6,
   "metadata": {
    "ExecuteTime": {
     "end_time": "2024-04-06T11:12:09.339053205Z",
     "start_time": "2024-04-06T11:12:09.286742845Z"
    },
    "collapsed": false,
    "jupyter": {
     "outputs_hidden": false
    }
   },
   "outputs": [
    {
     "name": "stdout",
     "output_type": "stream",
     "text": [
      "Total number of emails: 5172\n",
      "Total number of labels: 5172\n"
     ]
    }
   ],
   "source": [
    "# Extracting data from the txt files and appending them into mails and labelling whether the files are spam or not\n",
    "mails,labels=[],[]\n",
    "file_path_spam =\"/home/anilatmaj/PycharmProjects/pythonProject/enron1/spam/\"\n",
    "file_path_legit =\"/home/anilatmaj/PycharmProjects/pythonProject/enron1/ham/\"\n",
    "for filename_spam in glob.glob(os.path.join(file_path_spam ,'*.txt')):\n",
    "    with open(filename_spam,'r',encoding=\"ISO-8859-1\") as infile:\n",
    "        mails.append(infile.read())\n",
    "        labels.append(1)\n",
    "for filename_legit in glob.glob(os.path.join(file_path_legit,'*.txt')):\n",
    "    with open(filename_legit,'r',encoding=\"ISO-8859-1\") as infile:\n",
    "        mails.append(infile.read())\n",
    "        labels.append(0)\n",
    "print(\"Total number of emails: \"+str(len(mails))+\"\\nTotal number of labels: \"+str(len(labels)))"
   ]
  },
  {
   "cell_type": "code",
   "execution_count": null,
   "metadata": {},
   "outputs": [],
   "source": []
  },
  {
   "cell_type": "code",
   "execution_count": 8,
   "metadata": {
    "ExecuteTime": {
     "end_time": "2024-04-06T12:25:16.594266125Z",
     "start_time": "2024-04-06T12:25:16.588315209Z"
    },
    "collapsed": false,
    "jupyter": {
     "outputs_hidden": false
    }
   },
   "outputs": [],
   "source": [
    "from sklearn.feature_extraction.text import CountVectorizer\n",
    "from nltk.stem import WordNetLemmatizer\n",
    "from nltk.corpus import names\n",
    "\n",
    "lemmatizer = WordNetLemmatizer()\n",
    "cv= CountVectorizer(stop_words=\"english\", max_features=750)\n",
    "all_names = set(names.words())\n",
    "def onlyLetters(word):\n",
    "    return word.isalpha()\n",
    "def clean_text(docs):\n",
    "    cleaned_docs=[]\n",
    "    for doc in docs:\n",
    "        cleaned_docs.append(' '.join( [ lemmatizer.lemmatize(word.lower()) for word in doc.split() if onlyLetters(word) and word not in all_names ] ) )\n",
    "    return cleaned_docs\n",
    "def get_label_index(labels):\n",
    "    label_index= collections.defaultdict(list)\n",
    "    for index, label in enumerate(labels):\n",
    "        label_index[label].append(index)\n",
    "    return label_index\n",
    "def get_prior(label_index):\n",
    "    prior = {label: len(index) for label, index in label_index.items()}\n",
    "    totalCount= sum(prior.values())\n",
    "    for label in prior:\n",
    "        prior[label]/= totalCount\n",
    "    return prior"
   ]
  },
  {
   "cell_type": "code",
   "execution_count": 9,
   "metadata": {
    "ExecuteTime": {
     "end_time": "2024-04-06T12:25:19.504722826Z",
     "start_time": "2024-04-06T12:25:17.593579052Z"
    },
    "collapsed": false,
    "jupyter": {
     "outputs_hidden": false
    }
   },
   "outputs": [
    {
     "name": "stdout",
     "output_type": "stream",
     "text": [
      "[[0 0 0 0 0 0 0 0 0 0 0 0 0 0 0 0 0 0 0 0 0 0 0 0 0 0 0 0 0 0 1 0 0 0 0 0\n",
      "  0 0 0 0 0 0 0 0 0 0 0 0 0 0 0 0 0 0 0 0 0 0 0 0 0 0 0 0 0 0 0 0 0 0 1 0\n",
      "  0 0 0 0 0 0 0 0 0 0 0 0 0 0 0 0 0 0 0 0 0 0 0 0 0 0 0 0 0 0 0 0 0 0 0 0\n",
      "  0 1 0 0 0 0 0 0 0 0 0 0 0 0 0 0 0 0 0 0 0 0 0 0 0 0 0 0 0 0 0 0 0 0 0 0\n",
      "  0 0 0 0 0 0 0 0 0 0 0 0 0 0 0 0 0 0 0 0 0 0 0 0 0 0 0 0 0 0 0 0 0 0 0 0\n",
      "  0 0 0 0 0 0 0 0 0 0 0 0 0 0 0 0 0 0 0 0 0 0 0 0 0 0 0 0 0 0 0 0 0 0 0 0\n",
      "  0 0 0 0 0 0 0 0 0 0 0 0 0 0 0 0 0 0 0 0 0 0 0 0 0 0 0 0 0 0 0 0 0 0 0 0\n",
      "  0 0 0 0 0 0 0 0 0 0 0 0 0 0 0 0 0 0 0 0 0 0 1 0 0 0 0 0 0 0 0 0 0 0 0 0\n",
      "  0 0 0 0 0 0 0 0 0 0 0 0 0 1 0 0 0 0 0 0 0 0 0 0 0 0 0 0 0 0 0 0 0 0 0 0\n",
      "  0 0 0 0 0 0 0 0 0 0 0 0 0 0 0 0 0 0 0 0 0 0 0 0 1 0 0 0 0 0 0 0 0 0 0 0\n",
      "  0 0 0 1 0 0 0 0 0 0 0 0 0 0 0 0 0 0 0 1 0 0 0 0 1 0 0 0 0 0 0 0 0 0 0 0\n",
      "  0 0 0 0 0 0 0 0 0 0 0 0 0 0 0 0 0 0 0 0 0 0 0 0 0 0 0 0 0 0 1 0 0 0 0 1\n",
      "  0 0 0 0 0 0 0 0 0 0 0 0 0 0 0 0 0 0 0 0 0 0 0 0 0 0 0 0 0 0 0 0 0 0 0 0\n",
      "  0 0 0 0 0 0 0 1 0 0 0 0 0 0 0 0 0 0 0 0 0 0 0 0 0 0 0 0 0 0 0 0 0 0 0 0\n",
      "  0 0 0 0 0 0 0 0 0 0 0 0 0 0 0 0 0 2 0 0 0 0 0 0 0 0 0 0 0 0 0 0 0 0 0 0\n",
      "  0 0 0 0 0 0 0 0 0 0 0 0 0 0 0 0 0 0 0 0 0 0 0 0 0 0 0 1 0 0 0 0 0 0 0 0\n",
      "  0 0 0 0 0 0 0 0 0 0 0 0 0 0 0 0 0 0 0 0 0 0 0 0 0 0 0 0 0 0 0 0 0 0 0 0\n",
      "  0 0 0 0 0 0 0 0 0 0 0 0 0 0 0 0 0 0 0 0 0 0 0 0 0 0 0 0 0 0 0 0 0 0 0 0\n",
      "  0 0 0 0 0 0 0 0 0 0 0 0 0 0 0 1 0 1 1 0 0 0 0 0 1 0 0 0 0 0 0 0 0 0 0 0\n",
      "  0 0 0 0 0 0 0 0 0 0 0 1 0 0 0 0 0 0 0 0 1 0 0 0 0 0 0 2 0 0 0 0 0 0 0 0\n",
      "  0 0 0 0 0 0 0 0 0 0 0 0 0 0 0 0 0 0 0 0 0 1 0 0 0 0 0 0 0 0]]\n",
      "{1: 0.2900232018561485, 0: 0.7099767981438515}\n"
     ]
    }
   ],
   "source": [
    "cleaned_emails= clean_text(mails)\n",
    "\n",
    "term_docs = cv.fit_transform(cleaned_emails) #This converts the cleaned text(row of words) into a term document matrix where each row is a term frequency sparse vector\n",
    "#it will be in the format of (row index, feature/term index) value(term frequency in that document)\n",
    "feature_names=cv.get_feature_names_out()\n",
    "feature_count=term_docs.toarray().sum(axis=0) #sparse matrix of all the term count getting converted to term frequency\n",
    "label_index = get_label_index(labels)\n",
    "print(term_docs[0,:].sum(axis=0))\n",
    "prior = get_prior(label_index)\n",
    "print(prior)"
   ]
  },
  {
   "cell_type": "code",
   "execution_count": 10,
   "metadata": {
    "ExecuteTime": {
     "end_time": "2024-04-06T12:25:20.113575167Z",
     "start_time": "2024-04-06T12:25:19.982371236Z"
    },
    "collapsed": false,
    "jupyter": {
     "outputs_hidden": false
    }
   },
   "outputs": [
    {
     "name": "stdout",
     "output_type": "stream",
     "text": [
      "{'able': 246, 'access': 239, 'account': 378, 'accounting': 176, 'act': 221, 'action': 154, 'activity': 379, 'acton': 144, 'actual': 296, 'actuals': 330}\n"
     ]
    },
    {
     "name": "stderr",
     "output_type": "stream",
     "text": [
      "/home/anilatmaj/anaconda3/lib/python3.11/site-packages/seaborn/_oldcore.py:1765: FutureWarning: unique with argument that is not not a Series, Index, ExtensionArray, or np.ndarray is deprecated and will raise in a future version.\n",
      "  order = pd.unique(vector)\n"
     ]
    },
    {
     "data": {
      "image/png": "[encoded data removed]",
      "text/plain": [
       "<Figure size 640x480 with 1 Axes>"
      ]
     },
     "metadata": {},
     "output_type": "display_data"
    }
   ],
   "source": [
    "import seaborn as sb\n",
    "import matplotlib.pyplot as plt\n",
    "feature_graph = {fname : frequency for fname,frequency in zip(feature_names[0:10],feature_count[0:10])}\n",
    "print(feature_graph)\n",
    "sb.barplot(y=list(feature_graph.values()),x=list(feature_graph.keys()))\n",
    "plt.xlabe=\"Feature names\"\n",
    "plt.ylabel=\"Feature frequency\""
   ]
  },
  {
   "cell_type": "code",
   "execution_count": 12,
   "metadata": {
    "ExecuteTime": {
     "end_time": "2024-04-06T12:25:20.759436623Z",
     "start_time": "2024-04-06T12:25:20.754152287Z"
    },
    "collapsed": false,
    "jupyter": {
     "outputs_hidden": false
    }
   },
   "outputs": [
    {
     "name": "stdout",
     "output_type": "stream",
     "text": [
      "750\n",
      "[9.72500673e-04 8.57795466e-04 7.87974904e-04 7.58051807e-04\n",
      " 8.97692929e-05 2.14448866e-04 1.76546276e-03 7.18154343e-04\n",
      " 1.20191109e-03 1.65075755e-03]\n",
      "[8.95890735e-04 1.16634832e-03 3.75259893e-03 4.39493568e-04\n",
      " 3.46523775e-03 1.91010666e-03 4.56397167e-04 3.38071976e-05\n",
      " 9.63505130e-04 1.69035988e-05]\n"
     ]
    }
   ],
   "source": [
    "def get_likelihood(term_doc_matrix,label_index,smoothing=0):\n",
    "    likelihood={}\n",
    "    for label, index in label_index.items():\n",
    "        likelihood[label] = term_doc_matrix[index,:].sum(axis=0) + smoothing\n",
    "        likelihood[label] = np.asarray(likelihood[label]) [0]\n",
    "        total_count= likelihood[label].sum()\n",
    "        likelihood[label]=likelihood[label]/float(total_count)\n",
    "    return likelihood\n",
    "smoothing =1\n",
    "likelihood = get_likelihood(term_docs,label_index,smoothing)\n",
    "\n",
    "print(len(likelihood[0])) #total num of features\n",
    "print(likelihood[0][0:10]) #likelihood of first 10 features of not spam P(feature |not spam)\n",
    "print(likelihood[1][0:10]) #likelihood of first 10 features of spam P(feature | spam)\n"
   ]
  },
  {
   "cell_type": "code",
   "execution_count": 13,
   "metadata": {
    "ExecuteTime": {
     "end_time": "2024-04-06T12:25:21.578427359Z",
     "start_time": "2024-04-06T12:25:21.570652908Z"
    },
    "collapsed": false,
    "jupyter": {
     "outputs_hidden": false
    }
   },
   "outputs": [],
   "source": [
    "def get_posterior(term_doc_matrix, prior, likelihood):\n",
    "    posteriors = []\n",
    "    num_docs = term_doc_matrix.shape[0]\n",
    "    for i in range(num_docs):\n",
    "        posterior = {key: np.log(prior_label) for key, prior_label in prior.items()}\n",
    "        for label, likelihood_label in likelihood.items():\n",
    "            term_doc_vector = term_doc_matrix.getrow(i)\n",
    "            counts = term_doc_vector.data\n",
    "            indices = term_doc_vector.indices\n",
    "            for count, index in zip(counts, indices):\n",
    "                posterior[label] += np.log(likelihood_label[index] * count)\n",
    "        # exp(-1000):exp(-999) will cause zero division error,\n",
    "        # however it equates to exp(0):exp(1)\n",
    "        min_log_posterior = min(posterior.values())\n",
    "        for label in posterior:\n",
    "            try:\n",
    "                posterior[label] = np.exp(posterior[label] - min_log_posterior)\n",
    "            except:\n",
    "                posterior[label] = float('inf')\n",
    "        sum_posterior = sum(posterior.values())\n",
    "        for label in posterior:\n",
    "            if posterior[label] == float('inf'):\n",
    "                posterior[label] = 1.0\n",
    "            else:\n",
    "                posterior[label] /= sum_posterior\n",
    "        posteriors.append(posterior.copy())\n",
    "    return posteriors\n",
    "\n",
    "\n"
   ]
  },
  {
   "cell_type": "code",
   "execution_count": 14,
   "metadata": {
    "ExecuteTime": {
     "end_time": "2024-04-06T12:25:22.200423402Z",
     "start_time": "2024-04-06T12:25:22.192858320Z"
    },
    "collapsed": false,
    "jupyter": {
     "outputs_hidden": false
    }
   },
   "outputs": [
    {
     "name": "stdout",
     "output_type": "stream",
     "text": [
      "[{1: 0.339723092321108, 0: 0.660276907678892}, {1: 0.9991787730883056, 0: 0.0008212269116944165}]\n"
     ]
    }
   ],
   "source": [
    "emails_test=['''Subject: flat screens\n",
    "\n",
    "Hello,\n",
    "\n",
    "Please call or contact regarding the other flat screens requested.\n",
    "\n",
    "Trisha Tlapek - EB 3132 B\n",
    "Michael Sergeev - EB 3132 A\n",
    "\n",
    "Also the sun blocker that was taken away from EB 3131 A.\n",
    "Trisha should two monitors also Michael.\n",
    "\n",
    "Thanks,\n",
    "Kevin Moore''','''Subject: having problems in bed? we can help!\n",
    "\n",
    "Cialis allows men to enjoy a fully normal sex life without having to plan the sexual act.\n",
    "\n",
    "If we let things terrify us, life will not be worth living.\n",
    "Brevity is the soul of lingerie.\n",
    "Suspicion always haunts the guilty mind.''']\n",
    "cleaned_test= clean_text(emails_test)\n",
    "term_docs_test=cv.transform(cleaned_test)\n",
    "posterior_test= get_posterior(term_docs_test,prior,likelihood)\n",
    "print(posterior_test)"
   ]
  },
  {
   "cell_type": "code",
   "execution_count": 16,
   "metadata": {
    "ExecuteTime": {
     "end_time": "2024-04-06T12:25:22.898684666Z",
     "start_time": "2024-04-06T12:25:22.896711430Z"
    },
    "collapsed": false,
    "jupyter": {
     "outputs_hidden": false
    }
   },
   "outputs": [
    {
     "data": {
      "text/plain": [
       "(3465, 3465)"
      ]
     },
     "execution_count": 16,
     "metadata": {},
     "output_type": "execute_result"
    }
   ],
   "source": [
    "from sklearn.model_selection import train_test_split\n",
    "X_train,X_test,Y_train,Y_test = train_test_split(cleaned_emails,labels,test_size=0.33,random_state=42)\n",
    "len(X_train), len(Y_train)"
   ]
  },
  {
   "cell_type": "code",
   "execution_count": 17,
   "metadata": {
    "ExecuteTime": {
     "end_time": "2024-04-06T12:25:24.229214942Z",
     "start_time": "2024-04-06T12:25:23.992488028Z"
    },
    "collapsed": false,
    "jupyter": {
     "outputs_hidden": false
    }
   },
   "outputs": [],
   "source": [
    "term_docs_train=cv.fit_transform(X_train)\n",
    "label_index_train = get_label_index(Y_train)\n",
    "prior = get_prior(label_index_train)\n",
    "likelihood= get_likelihood(term_docs_train , label_index_train, smoothing)"
   ]
  },
  {
   "cell_type": "code",
   "execution_count": 18,
   "metadata": {
    "ExecuteTime": {
     "end_time": "2024-04-06T12:25:25.106587119Z",
     "start_time": "2024-04-06T12:25:24.855638377Z"
    },
    "collapsed": false,
    "jupyter": {
     "outputs_hidden": false
    }
   },
   "outputs": [],
   "source": [
    "term_docs_test= cv.transform(X_test)\n",
    "posterior_test= get_posterior(term_docs_test,prior,likelihood)"
   ]
  },
  {
   "cell_type": "code",
   "execution_count": 19,
   "metadata": {
    "ExecuteTime": {
     "end_time": "2024-04-06T12:25:25.680573642Z",
     "start_time": "2024-04-06T12:25:25.677763618Z"
    },
    "collapsed": false,
    "jupyter": {
     "outputs_hidden": false
    }
   },
   "outputs": [
    {
     "name": "stdout",
     "output_type": "stream",
     "text": [
      "The accuracy on 1707 testing samples is: 93.2%\n"
     ]
    }
   ],
   "source": [
    "correct=0.0\n",
    "predarr=list()\n",
    "actualarr=list()\n",
    "for pred, actual in zip(posterior_test,Y_test):\n",
    "    actualarr.append(actual)\n",
    "    predval= 0 if pred[0]>pred[1] else 1\n",
    "    predarr.append(predval)\n",
    "    if actual==1:\n",
    "        if pred[1] >=0.5:\n",
    "            correct+=1\n",
    "    elif pred[0] >= 0.5:\n",
    "        correct+=1\n",
    "print('The accuracy on {0} testing samples is: {1:.1f}%'.format(len(Y_test), correct/len(Y_test)*100))"
   ]
  },
  {
   "cell_type": "code",
   "execution_count": 20,
   "metadata": {},
   "outputs": [
    {
     "name": "stdout",
     "output_type": "stream",
     "text": [
      "(2, 2)\n"
     ]
    },
    {
     "data": {
      "text/plain": [
       "array([[1122,   69],\n",
       "       [  47,  469]])"
      ]
     },
     "execution_count": 20,
     "metadata": {},
     "output_type": "execute_result"
    }
   ],
   "source": [
    "from sklearn.metrics import confusion_matrix\n",
    "cm=confusion_matrix(actualarr,predarr)\n",
    "cm\n",
    "print(cm.shape)\n",
    "cm"
   ]
  },
  {
   "cell_type": "code",
   "execution_count": 21,
   "metadata": {},
   "outputs": [
    {
     "data": {
      "image/png": "[encoded data removed]",
      "text/plain": [
       "<Figure size 640x480 with 1 Axes>"
      ]
     },
     "metadata": {},
     "output_type": "display_data"
    }
   ],
   "source": [
    "import seaborn as sns\n",
    "import matplotlib.pyplot as plt\n",
    "\n",
    "%matplotlib inline\n",
    "sns.heatmap(cm, fmt='d',annot=True, cmap='Blues', cbar=False, \n",
    "            xticklabels=['Predicted Negative', 'Predicted Positive'], \n",
    "            yticklabels=['Actual Negative', 'Actual Positive'])\n",
    "plt.show()\n"
   ]
  },
  {
   "cell_type": "code",
   "execution_count": 35,
   "metadata": {},
   "outputs": [
    {
     "name": "stdout",
     "output_type": "stream",
     "text": [
      "              precision    recall  f1-score   support\n",
      "\n",
      "           0       0.96      0.94      0.95      1191\n",
      "           1       0.87      0.91      0.89       516\n",
      "\n",
      "    accuracy                           0.93      1707\n",
      "   macro avg       0.92      0.93      0.92      1707\n",
      "weighted avg       0.93      0.93      0.93      1707\n",
      "\n"
     ]
    }
   ],
   "source": [
    "from sklearn.metrics import classification_report\n",
    "\n",
    "print(classification_report(actualarr,predarr))"
   ]
  },
  {
   "cell_type": "code",
   "execution_count": null,
   "metadata": {},
   "outputs": [],
   "source": []
  }
 ],
 "metadata": {
  "kernelspec": {
   "display_name": "Python 3 (ipykernel)",
   "language": "python",
   "name": "python3"
  },
  "language_info": {
   "codemirror_mode": {
    "name": "ipython",
    "version": 3
   },
   "file_extension": ".py",
   "mimetype": "text/x-python",
   "name": "python",
   "nbconvert_exporter": "python",
   "pygments_lexer": "ipython3",
   "version": "3.12.4"
  }
 },
 "nbformat": 4,
 "nbformat_minor": 4
}
